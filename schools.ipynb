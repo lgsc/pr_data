{
 "cells": [
  {
   "cell_type": "code",
   "execution_count": 1,
   "metadata": {
    "collapsed": true
   },
   "outputs": [],
   "source": [
    "from base import exports\n",
    "import logging\n",
    "from pandasql import sqldf\n",
    "import pandas as pd\n",
    "\n",
    "log = logging.getLogger(__name__)\n",
    "logging.basicConfig(level=logging.INFO)"
   ]
  },
  {
   "cell_type": "markdown",
   "metadata": {},
   "source": [
    "### Public School Directory"
   ]
  },
  {
   "cell_type": "code",
   "execution_count": 2,
   "metadata": {
    "collapsed": true
   },
   "outputs": [],
   "source": [
    "df = exports.get_df_from_csv(file_name='data/escuelas_publicas_2017.csv')"
   ]
  },
  {
   "cell_type": "code",
   "execution_count": 3,
   "metadata": {
    "collapsed": false
   },
   "outputs": [
    {
     "data": {
      "text/plain": [
       "['BAJO_NIVEL_POBREZA',\n",
       " 'CODIGO',\n",
       " 'DIRECCION_MUNICIPIO',\n",
       " 'DIRECCION_ZIPCODE',\n",
       " 'DIRECCIO_ESTADO',\n",
       " 'DIRECCIO_FISICA',\n",
       " 'DIRECTOR',\n",
       " 'DISTRITO',\n",
       " 'ESCUELA',\n",
       " 'ESPAÑOL_AVANZADO',\n",
       " 'ESPAÑOL_BÁSICO',\n",
       " 'ESPAÑOL_PRE-BÁSICO',\n",
       " 'ESPAÑOL_PROFICIENTE',\n",
       " 'ESPAÑOL_[PROFICIENTE+AVANZADO]',\n",
       " 'ESTATUS_ACTUAL',\n",
       " 'FAX',\n",
       " 'GEOLOCALIZACION',\n",
       " 'GRADOS_ORIGINAL',\n",
       " 'GRADOS_POSTERIOR',\n",
       " 'GRADO_1',\n",
       " 'GRADO_10',\n",
       " 'GRADO_11',\n",
       " 'GRADO_12',\n",
       " 'GRADO_2',\n",
       " 'GRADO_3',\n",
       " 'GRADO_4',\n",
       " 'GRADO_5',\n",
       " 'GRADO_6',\n",
       " 'GRADO_7',\n",
       " 'GRADO_8',\n",
       " 'GRADO_9',\n",
       " 'GRADO_INFANT',\n",
       " 'GRADO_K',\n",
       " 'GRADO_PK',\n",
       " 'GRADO_PKE',\n",
       " 'GRADO_PKM',\n",
       " 'GRADO_SGE',\n",
       " 'GRADO_SGI',\n",
       " 'GRADO_SGS',\n",
       " 'GRADO_TODDLER',\n",
       " 'INGLÉS_AVANZADO',\n",
       " 'INGLÉS_BÁSICO',\n",
       " 'INGLÉS_PRE-BÁSICO',\n",
       " 'INGLÉS_PROFICIENTE',\n",
       " 'INGLÉS_[PROFICIENTE+AVANZADO]',\n",
       " 'MATEMÁTICAS_AVANZADO',\n",
       " 'MATEMÁTICAS_BÁSICO',\n",
       " 'MATEMÁTICAS_PRE-BÁSICO',\n",
       " 'MATEMÁTICAS_PROFICIENTE',\n",
       " 'MATEMÁTICAS_[PROFICIENTE+AVANZADO]',\n",
       " 'MATRICULA_TOTAL',\n",
       " 'MUNICIPIO_ESCOLAR',\n",
       " 'NIVEL_ORIGINAL',\n",
       " 'REGION',\n",
       " 'TABLE_ID',\n",
       " 'TELEFONO',\n",
       " 'ZONA']"
      ]
     },
     "execution_count": 3,
     "metadata": {},
     "output_type": "execute_result"
    }
   ],
   "source": [
    "list(df)"
   ]
  },
  {
   "cell_type": "code",
   "execution_count": 4,
   "metadata": {
    "collapsed": true
   },
   "outputs": [],
   "source": [
    "query = 'SELECT count(*), REGION from df group by 2 order by 1 desc'\n",
    "schools_per_region = sqldf(query)"
   ]
  },
  {
   "cell_type": "code",
   "execution_count": 5,
   "metadata": {
    "collapsed": false
   },
   "outputs": [
    {
     "data": {
      "text/html": [
       "<div>\n",
       "<table border=\"1\" class=\"dataframe\">\n",
       "  <thead>\n",
       "    <tr style=\"text-align: right;\">\n",
       "      <th></th>\n",
       "      <th>count(*)</th>\n",
       "      <th>REGION</th>\n",
       "    </tr>\n",
       "  </thead>\n",
       "  <tbody>\n",
       "    <tr>\n",
       "      <th>0</th>\n",
       "      <td>181</td>\n",
       "      <td>PONCE</td>\n",
       "    </tr>\n",
       "    <tr>\n",
       "      <th>1</th>\n",
       "      <td>174</td>\n",
       "      <td>MAYAGUEZ</td>\n",
       "    </tr>\n",
       "    <tr>\n",
       "      <th>2</th>\n",
       "      <td>170</td>\n",
       "      <td>SAN JUAN</td>\n",
       "    </tr>\n",
       "    <tr>\n",
       "      <th>3</th>\n",
       "      <td>164</td>\n",
       "      <td>CAGUAS</td>\n",
       "    </tr>\n",
       "    <tr>\n",
       "      <th>4</th>\n",
       "      <td>160</td>\n",
       "      <td>HUMACAO</td>\n",
       "    </tr>\n",
       "    <tr>\n",
       "      <th>5</th>\n",
       "      <td>145</td>\n",
       "      <td>BAYAMON</td>\n",
       "    </tr>\n",
       "    <tr>\n",
       "      <th>6</th>\n",
       "      <td>138</td>\n",
       "      <td>ARECIBO</td>\n",
       "    </tr>\n",
       "  </tbody>\n",
       "</table>\n",
       "</div>"
      ],
      "text/plain": [
       "   count(*)    REGION\n",
       "0       181     PONCE\n",
       "1       174  MAYAGUEZ\n",
       "2       170  SAN JUAN\n",
       "3       164    CAGUAS\n",
       "4       160   HUMACAO\n",
       "5       145   BAYAMON\n",
       "6       138   ARECIBO"
      ]
     },
     "execution_count": 5,
     "metadata": {},
     "output_type": "execute_result"
    }
   ],
   "source": [
    "schools_per_region"
   ]
  },
  {
   "cell_type": "code",
   "execution_count": null,
   "metadata": {
    "collapsed": true
   },
   "outputs": [],
   "source": []
  }
 ],
 "metadata": {
  "kernelspec": {
   "display_name": "Python 3",
   "language": "python",
   "name": "python3"
  },
  "language_info": {
   "codemirror_mode": {
    "name": "ipython",
    "version": 3
   },
   "file_extension": ".py",
   "mimetype": "text/x-python",
   "name": "python",
   "nbconvert_exporter": "python",
   "pygments_lexer": "ipython3",
   "version": "3.5.2"
  }
 },
 "nbformat": 4,
 "nbformat_minor": 2
}
